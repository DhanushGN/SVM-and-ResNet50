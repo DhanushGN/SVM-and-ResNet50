{
 "cells": [
  {
   "cell_type": "code",
   "execution_count": 1,
   "id": "db71803e-37f4-424e-8df2-83e4a1b3a884",
   "metadata": {
    "tags": []
   },
   "outputs": [
    {
     "name": "stdout",
     "output_type": "stream",
     "text": [
      "done\n"
     ]
    }
   ],
   "source": [
    "import os\n",
    "import numpy as np\n",
    "from tensorflow.keras.preprocessing import image\n",
    "from tensorflow.keras.applications import ResNet50\n",
    "from tensorflow.keras.applications.resnet50 import preprocess_input\n",
    "from sklearn.model_selection import train_test_split\n",
    "from sklearn.svm import SVC\n",
    "from sklearn.metrics import accuracy_score\n",
    "print(\"done\")"
   ]
  },
  {
   "cell_type": "code",
   "execution_count": 2,
   "id": "21130308-9233-4e6e-a5bd-681ccdfdfbd0",
   "metadata": {
    "tags": []
   },
   "outputs": [],
   "source": [
    "def load_and_preprocess_images(folder_path):\n",
    "    images = []\n",
    "    labels = []\n",
    "\n",
    "    for filename in os.listdir(folder_path):\n",
    "        if filename.endswith(('.jpg', '.jpeg', '.png', '.gif')):\n",
    "            img_path = os.path.join(folder_path, filename)\n",
    "            img = image.load_img(img_path, target_size=(224, 224))\n",
    "            img_array = image.img_to_array(img)\n",
    "            img_array = preprocess_input(img_array)\n",
    "            images.append(img_array)\n",
    "            labels.append(folder_path)  # Use the folder name as the label\n",
    "\n",
    "    print(f\"Loaded {len(images)} images from {folder_path}\")\n",
    "    return np.array(images), np.array(labels)"
   ]
  },
  {
   "cell_type": "code",
   "execution_count": 3,
   "id": "befc14fd-475d-493f-958b-39edf641e968",
   "metadata": {
    "tags": []
   },
   "outputs": [
    {
     "name": "stdout",
     "output_type": "stream",
     "text": [
      "For dynamic Images\n"
     ]
    }
   ],
   "source": [
    "print(\"For dynamic Images\")"
   ]
  },
  {
   "cell_type": "code",
   "execution_count": 4,
   "id": "ac9ea6f6-041d-4340-adaa-fe0df01376f7",
   "metadata": {
    "tags": []
   },
   "outputs": [],
   "source": [
    "# Set your paths to the image folders\n",
    "healthy_folder = 'D:/SVM and renset50 project/DMR - Database For Mastology Research - Visual Lab, UFF, Niterói, Brazil/SVM and Resnet50/healthy/patient_dynamic'\n",
    "sick_folder = 'D:/SVM and renset50 project/DMR - Database For Mastology Research - Visual Lab, UFF, Niterói, Brazil/SVM and Resnet50/sick/patient_dynamic'\n",
    "unknown_folder = 'D:/SVM and renset50 project/DMR - Database For Mastology Research - Visual Lab, UFF, Niterói, Brazil/SVM and Resnet50/unknown/patient_dynamic'"
   ]
  },
  {
   "cell_type": "code",
   "execution_count": 5,
   "id": "8cbd2f8a-be32-4ac4-a303-d4a379e1a3b3",
   "metadata": {
    "tags": []
   },
   "outputs": [
    {
     "name": "stdout",
     "output_type": "stream",
     "text": [
      "Loaded 2201 images from D:/SVM and renset50 project/DMR - Database For Mastology Research - Visual Lab, UFF, Niterói, Brazil/SVM and Resnet50/healthy/patient_dynamic\n",
      "Loaded 596 images from D:/SVM and renset50 project/DMR - Database For Mastology Research - Visual Lab, UFF, Niterói, Brazil/SVM and Resnet50/sick/patient_dynamic\n",
      "Loaded 43 images from D:/SVM and renset50 project/DMR - Database For Mastology Research - Visual Lab, UFF, Niterói, Brazil/SVM and Resnet50/unknown/patient_dynamic\n",
      "done\n"
     ]
    }
   ],
   "source": [
    "# Load and preprocess images for each class\n",
    "healthy_images, healthy_labels = load_and_preprocess_images(healthy_folder)\n",
    "sick_images, sick_labels = load_and_preprocess_images(sick_folder)\n",
    "unknown_images, unknown_labels = load_and_preprocess_images(unknown_folder)\n",
    "print(\"done\")"
   ]
  },
  {
   "cell_type": "code",
   "execution_count": 6,
   "id": "a992d2a6-f249-4217-955c-3eba3e4d32a4",
   "metadata": {
    "tags": []
   },
   "outputs": [],
   "source": [
    "# Extract features using ResNet50\n",
    "def extract_features(images):\n",
    "    resnet_model = ResNet50(weights='imagenet', include_top=False, pooling='avg')\n",
    "    features = resnet_model.predict(images)\n",
    "    return features"
   ]
  },
  {
   "cell_type": "code",
   "execution_count": 7,
   "id": "6f9e0411-1a61-4514-b7b0-142623ad7f29",
   "metadata": {
    "tags": []
   },
   "outputs": [
    {
     "name": "stdout",
     "output_type": "stream",
     "text": [
      "69/69 [==============================] - 189s 3s/step\n",
      "19/19 [==============================] - 56s 3s/step\n",
      "2/2 [==============================] - 5s 1s/step\n",
      "done\n"
     ]
    }
   ],
   "source": [
    "# Extract features for each class\n",
    "healthy_features = extract_features(healthy_images)\n",
    "sick_features = extract_features(sick_images)\n",
    "unknown_features = extract_features(unknown_images)\n",
    "print(\"done\")"
   ]
  },
  {
   "cell_type": "code",
   "execution_count": 8,
   "id": "50809b62-b3b7-46ed-9f9d-295b6c560a3a",
   "metadata": {
    "tags": []
   },
   "outputs": [
    {
     "name": "stdout",
     "output_type": "stream",
     "text": [
      "done\n"
     ]
    }
   ],
   "source": [
    "# Prepare data for SVM\n",
    "all_features = np.vstack([healthy_features, sick_features, unknown_features])\n",
    "all_labels = np.concatenate([healthy_labels, sick_labels, unknown_labels])\n",
    "print(\"done\")"
   ]
  },
  {
   "cell_type": "code",
   "execution_count": 9,
   "id": "1fb0e4ab-469c-4c68-b60a-6919d8e83f05",
   "metadata": {
    "tags": []
   },
   "outputs": [
    {
     "name": "stdout",
     "output_type": "stream",
     "text": [
      "done\n"
     ]
    }
   ],
   "source": [
    "# Split data into training and testing sets\n",
    "X_train, X_test, y_train, y_test = train_test_split(all_features, all_labels, test_size=0.2, random_state=42)\n",
    "print(\"done\")"
   ]
  },
  {
   "cell_type": "code",
   "execution_count": 10,
   "id": "24a12d84-9120-4696-8e3a-ecedc24368c3",
   "metadata": {
    "tags": []
   },
   "outputs": [
    {
     "name": "stdout",
     "output_type": "stream",
     "text": [
      "done\n"
     ]
    }
   ],
   "source": [
    "# Train SVM model\n",
    "svm_model = SVC(kernel='linear')\n",
    "svm_model.fit(X_train, y_train)\n",
    "print(\"done\")"
   ]
  },
  {
   "cell_type": "code",
   "execution_count": 11,
   "id": "ed58f6ec-fc68-4833-a474-1908f387ecc8",
   "metadata": {
    "tags": []
   },
   "outputs": [
    {
     "name": "stdout",
     "output_type": "stream",
     "text": [
      "Accuracy: 98.24%\n"
     ]
    }
   ],
   "source": [
    "# Predict and evaluate\n",
    "y_pred = svm_model.predict(X_test)\n",
    "accuracy = accuracy_score(y_test, y_pred)\n",
    "print(f\"Accuracy: {accuracy * 100:.2f}%\")"
   ]
  },
  {
   "cell_type": "code",
   "execution_count": 12,
   "id": "2fc4d983-596c-47c5-8e3b-12ffbea18a89",
   "metadata": {
    "tags": []
   },
   "outputs": [
    {
     "name": "stdout",
     "output_type": "stream",
     "text": [
      "For Static Images\n"
     ]
    }
   ],
   "source": [
    "print(\"For Static Images\")"
   ]
  },
  {
   "cell_type": "code",
   "execution_count": 13,
   "id": "422cc28f-83c0-4a61-9635-d895cf92b662",
   "metadata": {
    "tags": []
   },
   "outputs": [],
   "source": [
    "# Set your paths to the image folders\n",
    "healthy_folder = 'D:/SVM and renset50 project/DMR - Database For Mastology Research - Visual Lab, UFF, Niterói, Brazil/SVM and Resnet50/healthy/patient_static'\n",
    "sick_folder = 'D:/SVM and renset50 project/DMR - Database For Mastology Research - Visual Lab, UFF, Niterói, Brazil/SVM and Resnet50/sick/patient_static'\n",
    "unknown_folder = 'D:/SVM and renset50 project/DMR - Database For Mastology Research - Visual Lab, UFF, Niterói, Brazil/SVM and Resnet50/unknown/patient_static'"
   ]
  },
  {
   "cell_type": "code",
   "execution_count": 14,
   "id": "a7e3856d-8b25-4a42-91cf-cd6d1f743713",
   "metadata": {
    "tags": []
   },
   "outputs": [
    {
     "name": "stdout",
     "output_type": "stream",
     "text": [
      "Loaded 553 images from D:/SVM and renset50 project/DMR - Database For Mastology Research - Visual Lab, UFF, Niterói, Brazil/SVM and Resnet50/healthy/patient_static\n",
      "Loaded 172 images from D:/SVM and renset50 project/DMR - Database For Mastology Research - Visual Lab, UFF, Niterói, Brazil/SVM and Resnet50/sick/patient_static\n",
      "Loaded 10 images from D:/SVM and renset50 project/DMR - Database For Mastology Research - Visual Lab, UFF, Niterói, Brazil/SVM and Resnet50/unknown/patient_static\n",
      "done\n"
     ]
    }
   ],
   "source": [
    "# Load and preprocess images for each class\n",
    "healthy_images, healthy_labels = load_and_preprocess_images(healthy_folder)\n",
    "sick_images, sick_labels = load_and_preprocess_images(sick_folder)\n",
    "unknown_images, unknown_labels = load_and_preprocess_images(unknown_folder)\n",
    "print(\"done\")"
   ]
  },
  {
   "cell_type": "code",
   "execution_count": 15,
   "id": "16b4f36c-5eda-47f0-b14c-f3b5dbe8a9a2",
   "metadata": {
    "tags": []
   },
   "outputs": [],
   "source": [
    "# Extract features using ResNet50\n",
    "def extract_features(images):\n",
    "    resnet_model = ResNet50(weights='imagenet', include_top=False, pooling='avg')\n",
    "    features = resnet_model.predict(images)\n",
    "    return features"
   ]
  },
  {
   "cell_type": "code",
   "execution_count": 16,
   "id": "b86cf9c4-012b-4e92-addf-835a1af5830f",
   "metadata": {
    "tags": []
   },
   "outputs": [
    {
     "name": "stdout",
     "output_type": "stream",
     "text": [
      "18/18 [==============================] - 57s 3s/step\n",
      "6/6 [==============================] - 23s 4s/step\n",
      "1/1 [==============================] - 2s 2s/step\n",
      "done\n"
     ]
    }
   ],
   "source": [
    "# Extract features for each class\n",
    "healthy_features = extract_features(healthy_images)\n",
    "sick_features = extract_features(sick_images)\n",
    "unknown_features = extract_features(unknown_images)\n",
    "print(\"done\")"
   ]
  },
  {
   "cell_type": "code",
   "execution_count": 17,
   "id": "902bdedc-69e5-49a9-bfd8-6d7dea043eaf",
   "metadata": {
    "tags": []
   },
   "outputs": [
    {
     "name": "stdout",
     "output_type": "stream",
     "text": [
      "done\n"
     ]
    }
   ],
   "source": [
    "# Prepare data for SVM\n",
    "all_features = np.vstack([healthy_features, sick_features, unknown_features])\n",
    "all_labels = np.concatenate([healthy_labels, sick_labels, unknown_labels])\n",
    "print(\"done\")"
   ]
  },
  {
   "cell_type": "code",
   "execution_count": 18,
   "id": "53455f0d-5b8f-48bb-9781-9f6f4c293b94",
   "metadata": {
    "tags": []
   },
   "outputs": [
    {
     "name": "stdout",
     "output_type": "stream",
     "text": [
      "done\n"
     ]
    }
   ],
   "source": [
    "# Split data into training and testing sets\n",
    "X_train, X_test, y_train, y_test = train_test_split(all_features, all_labels, test_size=0.2, random_state=42)\n",
    "print(\"done\")"
   ]
  },
  {
   "cell_type": "code",
   "execution_count": 19,
   "id": "8648ced4-caa4-4903-a02a-24b08044ee41",
   "metadata": {
    "tags": []
   },
   "outputs": [
    {
     "name": "stdout",
     "output_type": "stream",
     "text": [
      "done\n"
     ]
    }
   ],
   "source": [
    "# Train SVM model\n",
    "svm_model = SVC(kernel='linear')\n",
    "svm_model.fit(X_train, y_train)\n",
    "print(\"done\")"
   ]
  },
  {
   "cell_type": "code",
   "execution_count": 20,
   "id": "1791a440-c26f-4c01-96d0-566e1885ec8c",
   "metadata": {
    "tags": []
   },
   "outputs": [
    {
     "name": "stdout",
     "output_type": "stream",
     "text": [
      "Accuracy: 80.95%\n"
     ]
    }
   ],
   "source": [
    "# Predict and evaluate\n",
    "y_pred = svm_model.predict(X_test)\n",
    "accuracy = accuracy_score(y_test, y_pred)\n",
    "print(f\"Accuracy: {accuracy * 100:.2f}%\")"
   ]
  },
  {
   "cell_type": "code",
   "execution_count": null,
   "id": "6c4ccc8e-2dfc-4940-87bc-b11af57ddb8b",
   "metadata": {},
   "outputs": [],
   "source": []
  }
 ],
 "metadata": {
  "kernelspec": {
   "display_name": "Python 3 (ipykernel)",
   "language": "python",
   "name": "python3"
  },
  "language_info": {
   "codemirror_mode": {
    "name": "ipython",
    "version": 3
   },
   "file_extension": ".py",
   "mimetype": "text/x-python",
   "name": "python",
   "nbconvert_exporter": "python",
   "pygments_lexer": "ipython3",
   "version": "3.11.4"
  }
 },
 "nbformat": 4,
 "nbformat_minor": 5
}
